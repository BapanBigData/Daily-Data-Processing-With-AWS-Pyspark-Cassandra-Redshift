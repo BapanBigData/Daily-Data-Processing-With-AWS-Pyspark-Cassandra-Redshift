{
 "cells": [
  {
   "cell_type": "code",
   "execution_count": 1,
   "id": "03463d57-5d89-4505-8530-a3d6fa33bc84",
   "metadata": {},
   "outputs": [
    {
     "name": "stdout",
     "output_type": "stream",
     "text": [
      "3.5.0\n"
     ]
    }
   ],
   "source": [
    "import pyspark\n",
    "print(pyspark.__version__)"
   ]
  },
  {
   "cell_type": "code",
   "execution_count": 2,
   "id": "61188250-f5d0-4a32-846e-a32c3dbb5f00",
   "metadata": {},
   "outputs": [],
   "source": [
    "from pyspark.sql import SparkSession\n",
    "from pyspark.sql.functions import *\n",
    "from pyspark.sql.types import *\n",
    "import boto3\n",
    "from io import StringIO\n",
    "from io import BytesIO\n",
    "from cassandra.cluster import Cluster\n",
    "from cassandra.auth import PlainTextAuthProvider\n",
    "from dotenv import load_dotenv\n",
    "import os"
   ]
  },
  {
   "cell_type": "code",
   "execution_count": 3,
   "id": "035cb51a-1fef-4f74-9e71-127c878c30d1",
   "metadata": {},
   "outputs": [],
   "source": [
    "redshift_package = \"io.github.spark-redshift-community:spark-redshift_2.12:6.2.0-spark_3.5\"  # Community version for Scala 2.12"
   ]
  },
  {
   "cell_type": "code",
   "execution_count": 4,
   "id": "83111bd9-e907-446a-b1ac-db01a3e24ee5",
   "metadata": {},
   "outputs": [
    {
     "data": {
      "text/html": [
       "\n",
       "            <div>\n",
       "                <p><b>SparkSession - in-memory</b></p>\n",
       "                \n",
       "        <div>\n",
       "            <p><b>SparkContext</b></p>\n",
       "\n",
       "            <p><a href=\"http://a3bfe7e027c7:4040\">Spark UI</a></p>\n",
       "\n",
       "            <dl>\n",
       "              <dt>Version</dt>\n",
       "                <dd><code>v3.5.0</code></dd>\n",
       "              <dt>Master</dt>\n",
       "                <dd><code>local[*]</code></dd>\n",
       "              <dt>AppName</dt>\n",
       "                <dd><code>Daily-Data-Processing</code></dd>\n",
       "            </dl>\n",
       "        </div>\n",
       "        \n",
       "            </div>\n",
       "        "
      ],
      "text/plain": [
       "<pyspark.sql.session.SparkSession at 0x7f890df74c90>"
      ]
     },
     "execution_count": 4,
     "metadata": {},
     "output_type": "execute_result"
    }
   ],
   "source": [
    "# Initialize Spark Session with Redshift\n",
    "spark = SparkSession.builder \\\n",
    "    .appName(\"Daily-Data-Processing\") \\\n",
    "    .config(\"spark.jars.packages\", f\"{redshift_package}\") \\\n",
    "    .config(\"spark.jars\", \"redshift-jdbc42-2.1.0.12.jar\") \\\n",
    "    .getOrCreate()\n",
    "\n",
    "spark"
   ]
  },
  {
   "cell_type": "code",
   "execution_count": null,
   "id": "74bb2c97",
   "metadata": {},
   "outputs": [],
   "source": [
    "# Load environment variables from .env file\n",
    "load_dotenv()\n",
    "\n",
    "# Access the credentials\n",
    "aws_access_key_id = os.getenv(\"AWS_ACCESS_KEY_ID\")\n",
    "aws_secret_access_key = os.getenv(\"AWS_SECRET_ACCESS_KEY\")\n",
    "client_id = os.getenv(\"CLIENT_ID\")\n",
    "secret = os.getenv(\"SECRET\")\n",
    "token = os.getenv(\"TOKEN\")"
   ]
  },
  {
   "cell_type": "code",
   "execution_count": 5,
   "id": "65e28cd1-0a72-4ca9-90ef-be1dd6eeacbd",
   "metadata": {},
   "outputs": [
    {
     "data": {
      "text/plain": [
       "<botocore.client.S3 at 0x7f896d2cb110>"
      ]
     },
     "execution_count": 5,
     "metadata": {},
     "output_type": "execute_result"
    }
   ],
   "source": [
    "# Initialize boto3 S3 client\n",
    "s3_client = boto3.client('s3', \n",
    "                        aws_access_key_id=aws_access_key_id,\n",
    "                        aws_secret_access_key=aws_secret_access_key)\n",
    "\n",
    "s3_client"
   ]
  },
  {
   "cell_type": "code",
   "execution_count": 6,
   "id": "611361cf-813b-4750-98c0-fa32189e7409",
   "metadata": {},
   "outputs": [],
   "source": [
    "# S3 bucket details\n",
    "bucket_name = \"healthcare-data-analysis-apr\"\n",
    "data_directory = \"input/\"           # Specify the directory path within the bucket\n",
    "archive_directory = \"archive/\"     \n",
    "\n",
    "# Function to read CSV files from S3 and return as string\n",
    "def read_csv_from_s3(bucket_name, file_key):\n",
    "    response = s3_client.get_object(Bucket=bucket_name, Key=file_key)\n",
    "    content = response['Body'].read().decode('utf-8')\n",
    "    return content\n",
    "\n",
    "# Read CSV files from the specified S3 directory\n",
    "files = s3_client.list_objects(Bucket=bucket_name, Prefix=data_directory)\n",
    "file_keys = [file['Key'] for file in files['Contents'] if file['Key'].endswith('.csv')]\n",
    "\n",
    "csv_content = read_csv_from_s3(bucket_name, file_keys[0])"
   ]
  },
  {
   "cell_type": "code",
   "execution_count": 7,
   "id": "c281362c-cfef-494e-9ec0-cd9bc616c392",
   "metadata": {},
   "outputs": [
    {
     "name": "stdout",
     "output_type": "stream",
     "text": [
      "+----------+---+------+--------------+---------------------+--------------+\n",
      "|patient_id|age|gender|diagnosis_code|diagnosis_description|diagnosis_date|\n",
      "+----------+---+------+--------------+---------------------+--------------+\n",
      "|P101      |39 |M     |H234          |High Blood Pressure  |2024-04-02    |\n",
      "|P102      |53 |M     |H234          |High Blood Pressure  |2024-04-02    |\n",
      "|P103      |44 |F     |D123          |Diabetes             |2024-04-02    |\n",
      "|P104      |54 |F     |C345          |Cancer               |2024-04-02    |\n",
      "|P105      |38 |M     |D123          |Diabetes             |2024-04-02    |\n",
      "|P106      |55 |F     |D123          |Diabetes             |2024-04-02    |\n",
      "|P107      |39 |F     |D123          |Diabetes             |2024-04-02    |\n",
      "|P108      |57 |F     |D123          |Diabetes             |2024-04-02    |\n",
      "|P109      |70 |F     |C345          |Cancer               |2024-04-02    |\n",
      "|P110      |49 |F     |D123          |Diabetes             |2024-04-02    |\n",
      "|P111      |34 |M     |C345          |Cancer               |2024-04-02    |\n",
      "|P112      |61 |F     |D123          |Diabetes             |2024-04-02    |\n",
      "|P113      |33 |M     |D123          |Diabetes             |2024-04-02    |\n",
      "|P114      |59 |M     |C345          |Cancer               |2024-04-02    |\n",
      "|P115      |68 |M     |D123          |Diabetes             |2024-04-02    |\n",
      "|P116      |37 |F     |C345          |Cancer               |2024-04-02    |\n",
      "|P117      |59 |M     |D123          |Diabetes             |2024-04-02    |\n",
      "|P118      |66 |F     |D123          |Diabetes             |2024-04-02    |\n",
      "|P119      |54 |F     |D123          |Diabetes             |2024-04-02    |\n",
      "|P120      |55 |F     |C345          |Cancer               |2024-04-02    |\n",
      "+----------+---+------+--------------+---------------------+--------------+\n",
      "only showing top 20 rows\n",
      "\n"
     ]
    }
   ],
   "source": [
    "# Define the schema\n",
    "schema = StructType([\n",
    "    StructField(\"patient_id\", StringType(), nullable=True),\n",
    "    StructField(\"age\", IntegerType(), nullable=True),\n",
    "    StructField(\"gender\", StringType(), nullable=True),\n",
    "    StructField(\"diagnosis_code\", StringType(), nullable=True),\n",
    "    StructField(\"diagnosis_description\", StringType(), nullable=True),\n",
    "    StructField(\"diagnosis_date\", DateType(), nullable=True)\n",
    "])\n",
    "\n",
    "# Save the CSV content to a file\n",
    "with open(\"temp.csv\", \"w\") as file:\n",
    "    file.write(csv_content)\n",
    "\n",
    "# Read CSV content from the file into a DataFrame\n",
    "df = spark.read.option(\"header\", True).csv(\"temp.csv\", schema=schema)\n",
    "\n",
    "# Show the DataFrame\n",
    "df.show(truncate=False)"
   ]
  },
  {
   "cell_type": "code",
   "execution_count": 8,
   "id": "458572b0-75cc-4f73-809e-fcb7585f87c7",
   "metadata": {},
   "outputs": [
    {
     "name": "stdout",
     "output_type": "stream",
     "text": [
      "root\n",
      " |-- patient_id: string (nullable = true)\n",
      " |-- age: integer (nullable = true)\n",
      " |-- gender: string (nullable = true)\n",
      " |-- diagnosis_code: string (nullable = true)\n",
      " |-- diagnosis_description: string (nullable = true)\n",
      " |-- diagnosis_date: date (nullable = true)\n",
      "\n"
     ]
    }
   ],
   "source": [
    "## print the schema\n",
    "df.printSchema()"
   ]
  },
  {
   "cell_type": "code",
   "execution_count": 9,
   "id": "90e859ce-2c87-4238-8b51-c129530a0a7f",
   "metadata": {},
   "outputs": [
    {
     "name": "stdout",
     "output_type": "stream",
     "text": [
      "Null Counts:\n",
      "+----------------------+---------------+------------------+--------------------------+---------------------------------+--------------------------+\n",
      "|patient_id_null_counts|age_null_counts|gender_null_counts|diagnosis_code_null_counts|diagnosis_description_null_counts|diagnosis_date_null_counts|\n",
      "+----------------------+---------------+------------------+--------------------------+---------------------------------+--------------------------+\n",
      "|0                     |0              |0                 |0                         |0                                |0                         |\n",
      "+----------------------+---------------+------------------+--------------------------+---------------------------------+--------------------------+\n",
      "\n"
     ]
    }
   ],
   "source": [
    "## number of null values in each column\n",
    "print(\"Null Counts:\")\n",
    "null_counts = df.select([count(when(col(e).isNull(), 1)).alias(f\"{e}_null_counts\") for e in df.columns])\n",
    "null_counts.show(truncate=False)"
   ]
  },
  {
   "cell_type": "code",
   "execution_count": 10,
   "id": "5b8b7f72-1475-40cc-a8b4-889f55d5e7a7",
   "metadata": {},
   "outputs": [
    {
     "name": "stdout",
     "output_type": "stream",
     "text": [
      "Successfully Connected to Datastax Cassandra!\n"
     ]
    }
   ],
   "source": [
    "def cassandra_connection():\n",
    "    cloud_config= {\n",
    "        'secure_connect_bundle': 'secure-connect-healthcare-db.zip'\n",
    "    }\n",
    "\n",
    "    auth_provider = PlainTextAuthProvider(client_id, secret)\n",
    "    cluster = Cluster(cloud=cloud_config, auth_provider=auth_provider)\n",
    "    session = cluster.connect()\n",
    "\n",
    "    row = session.execute(\"select release_version from system.local\").one()\n",
    "    \n",
    "    if row:\n",
    "        print(\"Successfully Connected to Datastax Cassandra!\")\n",
    "        return cluster, session\n",
    "    else:\n",
    "        print(\"An error occurred while connecting to Datastax Cassandra!\")\n",
    "        return\n",
    "\n",
    "# Setup Cassandra connection\n",
    "cluster, session = cassandra_connection()"
   ]
  },
  {
   "cell_type": "markdown",
   "id": "eb6179ae-1bf8-424e-ba65-0f5a0bef439b",
   "metadata": {},
   "source": [
    "##### Disease Gender Ratio:"
   ]
  },
  {
   "cell_type": "code",
   "execution_count": 11,
   "id": "ff09a523-2480-462b-a234-97945e831ab5",
   "metadata": {},
   "outputs": [],
   "source": [
    "df.createOrReplaceTempView(\"healthcare\")"
   ]
  },
  {
   "cell_type": "code",
   "execution_count": 12,
   "id": "4e2df56f-613e-4651-92cc-f7589d94bc45",
   "metadata": {},
   "outputs": [
    {
     "name": "stdout",
     "output_type": "stream",
     "text": [
      "+--------------+---------------------+--------------+---------------+-----------------+\n",
      "|diagnosis_date|diagnosis_description|diagnosis_code|percentage_male|percentage_female|\n",
      "+--------------+---------------------+--------------+---------------+-----------------+\n",
      "|    2024-04-02|               Cancer|          C345|          48.57|            51.43|\n",
      "|    2024-04-02|  High Blood Pressure|          H234|          42.42|            57.58|\n",
      "|    2024-04-02|             Diabetes|          D123|           50.0|             50.0|\n",
      "+--------------+---------------------+--------------+---------------+-----------------+\n",
      "\n"
     ]
    }
   ],
   "source": [
    "query = \"\"\"\n",
    "    SELECT\n",
    "        diagnosis_date,\n",
    "        diagnosis_description,\n",
    "        diagnosis_code,\n",
    "        ROUND(((SUM(CASE WHEN gender = 'M' THEN 1 ELSE 0 END)) / COUNT(gender))*100, 2) AS percentage_male,\n",
    "        ROUND(((SUM(CASE WHEN gender = 'F' THEN 1 ELSE 0 END)) / COUNT(gender))*100, 2) AS percentage_female\n",
    "    FROM healthcare\n",
    "    GROUP BY diagnosis_date, diagnosis_description, diagnosis_code;\n",
    "\"\"\"\n",
    "\n",
    "disease_gender = spark.sql(query)\n",
    "disease_gender.show()"
   ]
  },
  {
   "cell_type": "code",
   "execution_count": 13,
   "id": "7de3e633-517d-4b9a-acc3-e28827d599c7",
   "metadata": {},
   "outputs": [
    {
     "name": "stdout",
     "output_type": "stream",
     "text": [
      "Data inserted in cassandra!!\n",
      "Data inserted in cassandra!!\n",
      "Data inserted in cassandra!!\n"
     ]
    }
   ],
   "source": [
    "create_table_query = \"\"\"\n",
    "    CREATE TABLE IF NOT EXISTS healthcare_store.disease_gender_distn (\n",
    "        diagnosis_date DATE,\n",
    "        diagnosis_description TEXT,\n",
    "        diagnosis_code TEXT,\n",
    "        percentage_male DOUBLE,\n",
    "        percentage_female DOUBLE,\n",
    "        PRIMARY KEY (diagnosis_date, diagnosis_code)\n",
    "    );\n",
    "\"\"\"\n",
    "\n",
    "session.execute(create_table_query)\n",
    "\n",
    "# Convert Spark DataFrame to Pandas DataFrame\n",
    "pandas_df = disease_gender.toPandas()\n",
    "\n",
    "insert_query = \"\"\"\n",
    "    INSERT INTO healthcare_store.disease_gender_distn (diagnosis_date, diagnosis_description, diagnosis_code, percentage_male, percentage_female)\n",
    "    VALUES (%s, %s, %s, %s, %s)\n",
    "    \"\"\"\n",
    "# Insert data into Cassandra table\n",
    "for index, row in pandas_df.iterrows():\n",
    "    data = (\n",
    "        row['diagnosis_date'],\n",
    "        row['diagnosis_description'],\n",
    "        row['diagnosis_code'],\n",
    "        row['percentage_male'],\n",
    "        row['percentage_female']\n",
    "    )\n",
    "    # Insert data into Cassandra\n",
    "    session.execute(insert_query, data)\n",
    "    print(\"Data inserted in cassandra!!\")"
   ]
  },
  {
   "cell_type": "code",
   "execution_count": 14,
   "id": "dce75d68-2549-4739-a976-13c2e0b3c61e",
   "metadata": {},
   "outputs": [
    {
     "name": "stdout",
     "output_type": "stream",
     "text": [
      "Row(diagnosis_date=Date(19814), diagnosis_code='C345', diagnosis_description='Cancer', percentage_female=45.0, percentage_male=55.0)\n",
      "Row(diagnosis_date=Date(19814), diagnosis_code='D123', diagnosis_description='Diabetes', percentage_female=56.1, percentage_male=43.9)\n",
      "Row(diagnosis_date=Date(19814), diagnosis_code='H234', diagnosis_description='High Blood Pressure', percentage_female=56.41, percentage_male=43.59)\n",
      "Row(diagnosis_date=Date(19815), diagnosis_code='C345', diagnosis_description='Cancer', percentage_female=51.43, percentage_male=48.57)\n",
      "Row(diagnosis_date=Date(19815), diagnosis_code='D123', diagnosis_description='Diabetes', percentage_female=50.0, percentage_male=50.0)\n",
      "Row(diagnosis_date=Date(19815), diagnosis_code='H234', diagnosis_description='High Blood Pressure', percentage_female=57.58, percentage_male=42.42)\n"
     ]
    }
   ],
   "source": [
    "# checking\n",
    "q = \"SELECT * FROM healthcare_store.disease_gender_distn\"\n",
    "result = session.execute(q)\n",
    "\n",
    "# Print the results\n",
    "for row in result:\n",
    "    print(row)"
   ]
  },
  {
   "cell_type": "markdown",
   "id": "8fe634d2-1bb2-41a1-8e6c-93e11afa4505",
   "metadata": {},
   "source": [
    "##### Most Common Diseases:"
   ]
  },
  {
   "cell_type": "code",
   "execution_count": 15,
   "id": "68e1f880-ad64-4b04-a36a-df6271d9304d",
   "metadata": {},
   "outputs": [
    {
     "name": "stdout",
     "output_type": "stream",
     "text": [
      "+----+--------------+---------------------+\n",
      "|rank|diagnosis_date|diagnosis_description|\n",
      "+----+--------------+---------------------+\n",
      "|   1|    2024-04-02|               Cancer|\n",
      "|   2|    2024-04-02|  High Blood Pressure|\n",
      "|   3|    2024-04-02|             Diabetes|\n",
      "+----+--------------+---------------------+\n",
      "\n"
     ]
    }
   ],
   "source": [
    "## Find the top 3 most common diseases in the dataset. This will help in identifying the most prevalent diseases.\n",
    "query = \"\"\"\n",
    "    SELECT\n",
    "        ROW_NUMBER() OVER(ORDER BY COUNT(1) DESC) AS rank,\n",
    "        diagnosis_date,\n",
    "        diagnosis_description\n",
    "    FROM healthcare\n",
    "    GROUP BY diagnosis_date, diagnosis_description\n",
    "    HAVING COUNT(1) IN (\n",
    "            SELECT\n",
    "                COUNT(1) AS cnt\n",
    "            FROM healthcare\n",
    "            GROUP BY diagnosis_date, diagnosis_description\n",
    "            ORDER BY cnt DESC\n",
    "            LIMIT 3\n",
    "        );\n",
    "\"\"\"\n",
    "\n",
    "common_diseases = spark.sql(query)\n",
    "common_diseases.show()"
   ]
  },
  {
   "cell_type": "code",
   "execution_count": 16,
   "id": "a29595b6-00de-47d0-9fdc-8109baadccce",
   "metadata": {},
   "outputs": [
    {
     "name": "stdout",
     "output_type": "stream",
     "text": [
      "Data inserted in cassandra!!\n",
      "Data inserted in cassandra!!\n",
      "Data inserted in cassandra!!\n"
     ]
    }
   ],
   "source": [
    "create_table_query = \"\"\"\n",
    "    CREATE TABLE IF NOT EXISTS healthcare_store.common_diseases(\n",
    "        rank INT,\n",
    "        diagnosis_date DATE,\n",
    "        diagnosis_description TEXT,\n",
    "        PRIMARY KEY (diagnosis_date, rank)\n",
    "    );\n",
    "\"\"\"\n",
    "\n",
    "## execute the create table command\n",
    "session.execute(create_table_query)\n",
    "\n",
    "# Convert Spark DataFrame to Pandas DataFrame\n",
    "common_diseases_df = common_diseases.toPandas()\n",
    "\n",
    "insert_query = \"\"\"\n",
    "    INSERT INTO healthcare_store.common_diseases (rank, diagnosis_date, diagnosis_description)\n",
    "    VALUES (%s, %s, %s)\n",
    "    \"\"\"\n",
    "\n",
    "# Insert data into Cassandra table\n",
    "for index, row in common_diseases_df.iterrows():\n",
    "    data = (\n",
    "        row['rank'],\n",
    "        row['diagnosis_date'],\n",
    "        row['diagnosis_description']\n",
    "    )\n",
    "    # Insert data into Cassandra\n",
    "    session.execute(insert_query, data)\n",
    "    print(\"Data inserted in cassandra!!\")"
   ]
  },
  {
   "cell_type": "code",
   "execution_count": 17,
   "id": "240fd914-8674-4510-a564-5a6847296d8c",
   "metadata": {},
   "outputs": [
    {
     "name": "stdout",
     "output_type": "stream",
     "text": [
      "Row(diagnosis_date=Date(19814), rank=1, diagnosis_description='Diabetes')\n",
      "Row(diagnosis_date=Date(19814), rank=2, diagnosis_description='High Blood Pressure')\n",
      "Row(diagnosis_date=Date(19814), rank=3, diagnosis_description='Cancer')\n",
      "Row(diagnosis_date=Date(19815), rank=1, diagnosis_description='Cancer')\n",
      "Row(diagnosis_date=Date(19815), rank=2, diagnosis_description='High Blood Pressure')\n",
      "Row(diagnosis_date=Date(19815), rank=3, diagnosis_description='Diabetes')\n"
     ]
    }
   ],
   "source": [
    "# checking\n",
    "q = \"SELECT * FROM healthcare_store.common_diseases\"\n",
    "result = session.execute(q)\n",
    "\n",
    "# Print the results\n",
    "for row in result:\n",
    "    print(row)"
   ]
  },
  {
   "cell_type": "markdown",
   "id": "8a9a512f-c9bd-4144-a1ec-2d07da875fd6",
   "metadata": {},
   "source": [
    "##### Age Category: "
   ]
  },
  {
   "cell_type": "code",
   "execution_count": 18,
   "id": "1a3cbbda-33c9-4863-ac2a-4c110c68adde",
   "metadata": {},
   "outputs": [
    {
     "name": "stdout",
     "output_type": "stream",
     "text": [
      "+----------+---+------+--------------+---------------------+--------------+---------+\n",
      "|patient_id|age|gender|diagnosis_code|diagnosis_description|diagnosis_date|age_group|\n",
      "+----------+---+------+--------------+---------------------+--------------+---------+\n",
      "|      P101| 39|     M|          H234|  High Blood Pressure|    2024-04-02|    30-40|\n",
      "|      P102| 53|     M|          H234|  High Blood Pressure|    2024-04-02|    51-60|\n",
      "|      P103| 44|     F|          D123|             Diabetes|    2024-04-02|    41-50|\n",
      "|      P104| 54|     F|          C345|               Cancer|    2024-04-02|    51-60|\n",
      "|      P105| 38|     M|          D123|             Diabetes|    2024-04-02|    30-40|\n",
      "|      P106| 55|     F|          D123|             Diabetes|    2024-04-02|    51-60|\n",
      "|      P107| 39|     F|          D123|             Diabetes|    2024-04-02|    30-40|\n",
      "|      P108| 57|     F|          D123|             Diabetes|    2024-04-02|    51-60|\n",
      "|      P109| 70|     F|          C345|               Cancer|    2024-04-02|    61-70|\n",
      "|      P110| 49|     F|          D123|             Diabetes|    2024-04-02|    41-50|\n",
      "|      P111| 34|     M|          C345|               Cancer|    2024-04-02|    30-40|\n",
      "|      P112| 61|     F|          D123|             Diabetes|    2024-04-02|    61-70|\n",
      "|      P113| 33|     M|          D123|             Diabetes|    2024-04-02|    30-40|\n",
      "|      P114| 59|     M|          C345|               Cancer|    2024-04-02|    51-60|\n",
      "|      P115| 68|     M|          D123|             Diabetes|    2024-04-02|    61-70|\n",
      "|      P116| 37|     F|          C345|               Cancer|    2024-04-02|    30-40|\n",
      "|      P117| 59|     M|          D123|             Diabetes|    2024-04-02|    51-60|\n",
      "|      P118| 66|     F|          D123|             Diabetes|    2024-04-02|    61-70|\n",
      "|      P119| 54|     F|          D123|             Diabetes|    2024-04-02|    51-60|\n",
      "|      P120| 55|     F|          C345|               Cancer|    2024-04-02|    51-60|\n",
      "+----------+---+------+--------------+---------------------+--------------+---------+\n",
      "only showing top 20 rows\n",
      "\n",
      "Age Group Distribution:\n",
      "+--------------+---------------------+--------------+---------+---------+---------+---------+----------------+\n",
      "|diagnosis_date|diagnosis_description|diagnosis_code|cnt_30_40|cnt_41_50|cnt_51_60|cnt_61_70|cnt_more_than_70|\n",
      "+--------------+---------------------+--------------+---------+---------+---------+---------+----------------+\n",
      "|2024-04-02    |Cancer               |C345          |11       |5        |12       |7        |0               |\n",
      "|2024-04-02    |High Blood Pressure  |H234          |10       |7        |10       |6        |0               |\n",
      "|2024-04-02    |Diabetes             |D123          |10       |6        |8        |8        |0               |\n",
      "+--------------+---------------------+--------------+---------+---------+---------+---------+----------------+\n",
      "\n"
     ]
    }
   ],
   "source": [
    "query1 = \"\"\"\n",
    "    SELECT \n",
    "        *,\n",
    "        CASE\n",
    "            WHEN age BETWEEN 30 AND 40 THEN '30-40'\n",
    "            WHEN age BETWEEN 41 AND 50 THEN '41-50'\n",
    "            WHEN age BETWEEN 51 AND 60 THEN '51-60'\n",
    "            WHEN age BETWEEN 61 AND 70 THEN '61-70'\n",
    "            ELSE '>70' \n",
    "            END AS age_group\n",
    "    FROM healthcare;\n",
    "\"\"\"\n",
    "\n",
    "df_age_cat = spark.sql(query1)\n",
    "df_age_cat.show()\n",
    "\n",
    "## create a temp view\n",
    "df_age_cat.createOrReplaceTempView(\"healthcare_age_categories\")\n",
    "\n",
    "query2 = \"\"\"\n",
    "    SELECT\n",
    "        diagnosis_date,\n",
    "        diagnosis_description,\n",
    "        diagnosis_code,\n",
    "        SUM(CASE WHEN age_group = '30-40' THEN 1 ELSE 0 END) AS cnt_30_40,\n",
    "        SUM(CASE WHEN age_group = '41-50' THEN 1 ELSE 0 END) AS cnt_41_50,\n",
    "        SUM(CASE WHEN age_group = '51-60' THEN 1 ELSE 0 END) AS cnt_51_60,\n",
    "        SUM(CASE WHEN age_group = '61-70' THEN 1 ELSE 0 END) AS cnt_61_70,\n",
    "        SUM(CASE WHEN age_group = '>70' THEN 1 ELSE 0 END) AS cnt_more_than_70\n",
    "    FROM healthcare_age_categories\n",
    "    GROUP BY diagnosis_date, diagnosis_description, diagnosis_code;\n",
    "\"\"\"\n",
    "\n",
    "print(\"Age Group Distribution:\")\n",
    "age_cat_distn = spark.sql(query2)\n",
    "age_cat_distn.show(truncate=False)"
   ]
  },
  {
   "cell_type": "code",
   "execution_count": 19,
   "id": "e7ecb863-7d74-4139-96be-cc592ab82186",
   "metadata": {},
   "outputs": [
    {
     "name": "stdout",
     "output_type": "stream",
     "text": [
      "Data inserted in cassandra!!\n",
      "Data inserted in cassandra!!\n",
      "Data inserted in cassandra!!\n"
     ]
    }
   ],
   "source": [
    "create_table_query = \"\"\"\n",
    "    CREATE TABLE IF NOT EXISTS healthcare_store.age_group_distn(\n",
    "        diagnosis_date DATE,\n",
    "        diagnosis_description TEXT,\n",
    "        diagnosis_code TEXT,\n",
    "        cnt_30_40 INT,\n",
    "        cnt_41_50 INT,\n",
    "        cnt_51_60 INT,\n",
    "        cnt_61_70 INT,\n",
    "        cnt_more_than_70 INT,\n",
    "        PRIMARY KEY (diagnosis_date, diagnosis_code)\n",
    "    );\n",
    "\"\"\"\n",
    "\n",
    "## execute the create table command\n",
    "session.execute(create_table_query)\n",
    "\n",
    "# Convert Spark DataFrame to Pandas DataFrame\n",
    "age_cat_distn_df = age_cat_distn.toPandas()\n",
    "\n",
    "insert_query = \"\"\"\n",
    "    INSERT INTO healthcare_store.age_group_distn (diagnosis_date, diagnosis_description, diagnosis_code, cnt_30_40, cnt_41_50,\n",
    "                                                       cnt_51_60, cnt_61_70, cnt_more_than_70)\n",
    "    VALUES (%s, %s, %s, %s, %s, %s, %s, %s)\n",
    "    \"\"\"\n",
    "# Insert data into Cassandra table\n",
    "for index, row in age_cat_distn_df.iterrows():\n",
    "    data = (\n",
    "        row['diagnosis_date'],\n",
    "        row['diagnosis_description'],\n",
    "        row['diagnosis_code'],\n",
    "        row['cnt_30_40'],\n",
    "        row['cnt_41_50'],\n",
    "        row['cnt_51_60'],\n",
    "        row['cnt_61_70'],\n",
    "        row['cnt_more_than_70']\n",
    "    )\n",
    "    # Insert data into Cassandra\n",
    "    session.execute(insert_query, data)\n",
    "    print(\"Data inserted in cassandra!!\")"
   ]
  },
  {
   "cell_type": "code",
   "execution_count": 20,
   "id": "9c44b22f-12ad-4d2c-8ea7-4c01f4810f0c",
   "metadata": {},
   "outputs": [
    {
     "name": "stdout",
     "output_type": "stream",
     "text": [
      "Row(diagnosis_date=Date(19814), diagnosis_code='C345', cnt_30_40=5, cnt_41_50=3, cnt_51_60=4, cnt_61_70=8, cnt_more_than_70=0, diagnosis_description='Cancer')\n",
      "Row(diagnosis_date=Date(19814), diagnosis_code='D123', cnt_30_40=13, cnt_41_50=7, cnt_51_60=11, cnt_61_70=10, cnt_more_than_70=0, diagnosis_description='Diabetes')\n",
      "Row(diagnosis_date=Date(19814), diagnosis_code='H234', cnt_30_40=6, cnt_41_50=9, cnt_51_60=12, cnt_61_70=12, cnt_more_than_70=0, diagnosis_description='High Blood Pressure')\n",
      "Row(diagnosis_date=Date(19815), diagnosis_code='C345', cnt_30_40=11, cnt_41_50=5, cnt_51_60=12, cnt_61_70=7, cnt_more_than_70=0, diagnosis_description='Cancer')\n",
      "Row(diagnosis_date=Date(19815), diagnosis_code='D123', cnt_30_40=10, cnt_41_50=6, cnt_51_60=8, cnt_61_70=8, cnt_more_than_70=0, diagnosis_description='Diabetes')\n",
      "Row(diagnosis_date=Date(19815), diagnosis_code='H234', cnt_30_40=10, cnt_41_50=7, cnt_51_60=10, cnt_61_70=6, cnt_more_than_70=0, diagnosis_description='High Blood Pressure')\n"
     ]
    }
   ],
   "source": [
    "# checking\n",
    "q = \"SELECT * FROM healthcare_store.age_group_distn;\"\n",
    "result = session.execute(q)\n",
    "\n",
    "# Print the results\n",
    "for row in result:\n",
    "    print(row)"
   ]
  },
  {
   "cell_type": "markdown",
   "id": "3391a64d-4c55-445b-a1a9-d97f418ad06e",
   "metadata": {},
   "source": [
    "##### Flag for senior patients (Age >= 60 Years): "
   ]
  },
  {
   "cell_type": "code",
   "execution_count": 21,
   "id": "09ad8000-a14d-4887-a691-8fa7c3d89223",
   "metadata": {},
   "outputs": [
    {
     "name": "stdout",
     "output_type": "stream",
     "text": [
      "+----------+---+------+--------------+---------------------+--------------+-----+\n",
      "|patient_id|age|gender|diagnosis_code|diagnosis_description|diagnosis_date| flag|\n",
      "+----------+---+------+--------------+---------------------+--------------+-----+\n",
      "|      P101| 39|     M|          H234|  High Blood Pressure|    2024-04-02|false|\n",
      "|      P102| 53|     M|          H234|  High Blood Pressure|    2024-04-02|false|\n",
      "|      P103| 44|     F|          D123|             Diabetes|    2024-04-02|false|\n",
      "|      P104| 54|     F|          C345|               Cancer|    2024-04-02|false|\n",
      "|      P105| 38|     M|          D123|             Diabetes|    2024-04-02|false|\n",
      "|      P106| 55|     F|          D123|             Diabetes|    2024-04-02|false|\n",
      "|      P107| 39|     F|          D123|             Diabetes|    2024-04-02|false|\n",
      "|      P108| 57|     F|          D123|             Diabetes|    2024-04-02|false|\n",
      "|      P109| 70|     F|          C345|               Cancer|    2024-04-02| true|\n",
      "|      P110| 49|     F|          D123|             Diabetes|    2024-04-02|false|\n",
      "|      P111| 34|     M|          C345|               Cancer|    2024-04-02|false|\n",
      "|      P112| 61|     F|          D123|             Diabetes|    2024-04-02| true|\n",
      "|      P113| 33|     M|          D123|             Diabetes|    2024-04-02|false|\n",
      "|      P114| 59|     M|          C345|               Cancer|    2024-04-02|false|\n",
      "|      P115| 68|     M|          D123|             Diabetes|    2024-04-02| true|\n",
      "|      P116| 37|     F|          C345|               Cancer|    2024-04-02|false|\n",
      "|      P117| 59|     M|          D123|             Diabetes|    2024-04-02|false|\n",
      "|      P118| 66|     F|          D123|             Diabetes|    2024-04-02| true|\n",
      "|      P119| 54|     F|          D123|             Diabetes|    2024-04-02|false|\n",
      "|      P120| 55|     F|          C345|               Cancer|    2024-04-02|false|\n",
      "+----------+---+------+--------------+---------------------+--------------+-----+\n",
      "only showing top 20 rows\n",
      "\n"
     ]
    }
   ],
   "source": [
    "query = \"\"\"\n",
    "    SELECT \n",
    "        *,\n",
    "        CASE\n",
    "            WHEN age >= 60 THEN True\n",
    "            ELSE False\n",
    "            END AS flag\n",
    "    FROM healthcare;\n",
    "\"\"\"\n",
    "\n",
    "senior_patients = spark.sql(query)\n",
    "senior_patients.show()"
   ]
  },
  {
   "cell_type": "code",
   "execution_count": 22,
   "id": "92f6ded8-727d-46d6-87a9-99923b2d6b94",
   "metadata": {},
   "outputs": [
    {
     "name": "stdout",
     "output_type": "stream",
     "text": [
      "root\n",
      " |-- patient_id: string (nullable = true)\n",
      " |-- age: integer (nullable = true)\n",
      " |-- gender: string (nullable = true)\n",
      " |-- diagnosis_code: string (nullable = true)\n",
      " |-- diagnosis_description: string (nullable = true)\n",
      " |-- diagnosis_date: date (nullable = true)\n",
      " |-- flag: boolean (nullable = false)\n",
      "\n"
     ]
    }
   ],
   "source": [
    "senior_patients.printSchema()"
   ]
  },
  {
   "cell_type": "code",
   "execution_count": 23,
   "id": "5fde23d7-579c-432d-a907-84a0216d1147",
   "metadata": {},
   "outputs": [
    {
     "name": "stdout",
     "output_type": "stream",
     "text": [
      "All Data inserted in cassandra!!\n"
     ]
    }
   ],
   "source": [
    "create_table_query = \"\"\"\n",
    "    CREATE TABLE IF NOT EXISTS healthcare_store.healthcare_fact (\n",
    "        patient_id TEXT,\n",
    "        age INT,\n",
    "        gender TEXT,\n",
    "        diagnosis_code TEXT,\n",
    "        diagnosis_description TEXT,\n",
    "        diagnosis_date DATE,\n",
    "        flag BOOLEAN,\n",
    "        PRIMARY KEY (diagnosis_date, patient_id)\n",
    "    );\n",
    "\"\"\"\n",
    "\n",
    "## execute the create table command\n",
    "session.execute(create_table_query)\n",
    "\n",
    "# Convert Spark DataFrame to Pandas DataFrame\n",
    "senior_patients_df = senior_patients.toPandas()\n",
    "\n",
    "insert_query = \"\"\"\n",
    "    INSERT INTO healthcare_store.healthcare_fact (patient_id, age, gender, diagnosis_code, diagnosis_description, diagnosis_date, flag)\n",
    "    VALUES (%s, %s, %s, %s, %s, %s, %s)\n",
    "    \"\"\"\n",
    "# Insert data into Cassandra table\n",
    "for index, row in senior_patients_df.iterrows():\n",
    "    data = (\n",
    "        row['patient_id'],\n",
    "        row['age'],\n",
    "        row['gender'],\n",
    "        row['diagnosis_code'],\n",
    "        row['diagnosis_description'],\n",
    "        row['diagnosis_date'],\n",
    "        row['flag']\n",
    "    )\n",
    "    # Insert data into Cassandra\n",
    "    session.execute(insert_query, data)\n",
    "    \n",
    "print(\"All Data inserted in cassandra!!\")"
   ]
  },
  {
   "cell_type": "code",
   "execution_count": null,
   "id": "4be23f3c-3ea7-4b33-a1de-050815a90a63",
   "metadata": {},
   "outputs": [],
   "source": []
  },
  {
   "cell_type": "code",
   "execution_count": 24,
   "id": "82dcb32b-1694-4516-8ceb-ba23a8fbf915",
   "metadata": {},
   "outputs": [
    {
     "name": "stdout",
     "output_type": "stream",
     "text": [
      "Write Successful into the Redshift Table!\n"
     ]
    }
   ],
   "source": [
    "load_dotenv()\n",
    "\n",
    "# Configure Redshift connection properties\n",
    "jdbc_url = os.getenv(\"JDBC_URL\")\n",
    "table_name = \"healthcare.healthcare_fact\"\n",
    "redshift_username = os.getenv(\"REDSHIFT_USERNAME\")\n",
    "redshift_password = os.getenv(\"REDSHIFT_PASSWORD\")\n",
    "\n",
    "## temp s3 directory \n",
    "s3_temp_dir = \"s3://s3-redshift-bucket-feb27/temp/\"\n",
    "\n",
    "# Set connection properties\n",
    "properties = {\n",
    "    \"user\": redshift_username,\n",
    "    \"password\": redshift_password,\n",
    "    \"tempdir\": s3_temp_dir,\n",
    "    \"driver\": \"com.amazon.redshift.jdbc.Driver\"\n",
    "}\n",
    "\n",
    "# Write data to Redshift\n",
    "senior_patients.write.jdbc(url=jdbc_url, table=table_name, mode=\"append\", properties=properties)\n",
    "print(\"Write Successful into the Redshift Table!\")"
   ]
  },
  {
   "cell_type": "code",
   "execution_count": null,
   "id": "7499f55e-da03-4c0d-8408-f91627e66606",
   "metadata": {},
   "outputs": [],
   "source": []
  },
  {
   "cell_type": "code",
   "execution_count": 25,
   "id": "cac25e13-6f8a-4fd9-b939-65e84e1de85f",
   "metadata": {},
   "outputs": [
    {
     "data": {
      "text/plain": [
       "'input/health_data_20240402.csv'"
      ]
     },
     "execution_count": 25,
     "metadata": {},
     "output_type": "execute_result"
    }
   ],
   "source": [
    "file_keys[0]"
   ]
  },
  {
   "cell_type": "code",
   "execution_count": 26,
   "id": "737d4abc-64b4-4b67-8d52-77a004e924e8",
   "metadata": {},
   "outputs": [
    {
     "data": {
      "text/plain": [
       "'archive/health_data_20240402.csv'"
      ]
     },
     "execution_count": 26,
     "metadata": {},
     "output_type": "execute_result"
    }
   ],
   "source": [
    "archive_key = f\"archive/{file_keys[0].split('/')[-1]}\" \n",
    "archive_key"
   ]
  },
  {
   "cell_type": "code",
   "execution_count": 27,
   "id": "cb590583-f422-415e-8fb3-1395b9081d7c",
   "metadata": {},
   "outputs": [
    {
     "name": "stdout",
     "output_type": "stream",
     "text": [
      "Object moved from 'input' folder to 'archive' folder successfully!\n"
     ]
    }
   ],
   "source": [
    "# S3 bucket details\n",
    "bucket_name = \"healthcare-data-analysis-apr\"\n",
    "\n",
    "input_key = file_keys[0]\n",
    "archive_key = f\"archive/{file_keys[0].split('/')[-1]}\" \n",
    "\n",
    "# Copy object from input folder to archive folder\n",
    "s3_client.copy_object(\n",
    "    Bucket=bucket_name,\n",
    "    CopySource={'Bucket': bucket_name, 'Key': input_key},\n",
    "    Key=archive_key\n",
    ")\n",
    "\n",
    "# Delete object from input folder\n",
    "s3_client.delete_object(\n",
    "    Bucket=bucket_name,\n",
    "    Key=input_key\n",
    ")\n",
    "print(\"Object moved from 'input' folder to 'archive' folder successfully!\")"
   ]
  },
  {
   "cell_type": "code",
   "execution_count": 28,
   "id": "cd1f8860-558c-47d1-b86d-d02989e87d73",
   "metadata": {},
   "outputs": [],
   "source": [
    "# Remove the temporary file\n",
    "import os\n",
    "os.remove(\"temp.csv\")"
   ]
  },
  {
   "cell_type": "code",
   "execution_count": 29,
   "id": "9a263f44-fd24-411f-8d40-88e5556617ae",
   "metadata": {},
   "outputs": [],
   "source": [
    "spark.stop()"
   ]
  }
 ],
 "metadata": {
  "kernelspec": {
   "display_name": "Python 3 (ipykernel)",
   "language": "python",
   "name": "python3"
  },
  "language_info": {
   "codemirror_mode": {
    "name": "ipython",
    "version": 3
   },
   "file_extension": ".py",
   "mimetype": "text/x-python",
   "name": "python",
   "nbconvert_exporter": "python",
   "pygments_lexer": "ipython3",
   "version": "3.11.6"
  }
 },
 "nbformat": 4,
 "nbformat_minor": 5
}
